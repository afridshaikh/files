{
 "cells": [
  {
   "cell_type": "raw",
   "metadata": {},
   "source": [
    "# mongo Instructions\n",
    "step1) type mongod and check if server is running\n",
    "step2) open new terminal or command prompt and type mongo\n"
   ]
  },
  {
   "cell_type": "raw",
   "metadata": {},
   "source": [
    "Commands\n",
    "1) show dbs => for viewing databases\n",
    "2) use db_name => switched to test DB. if not exist, new Database will be created"
   ]
  },
  {
   "cell_type": "raw",
   "metadata": {},
   "source": [
    "for any operation you perform you will have to use db as object\n",
    "\n",
    "db.any_method\n",
    "---------------- note: press tab after db. to view all the methods that you can execute\n"
   ]
  },
  {
   "cell_type": "raw",
   "metadata": {},
   "source": [
    "> db.createCollection(\"myCollection\")\n",
    "{ \"ok\" : 1 }\n",
    "\n",
    "it creates collection, and prints ok if successfully done."
   ]
  },
  {
   "cell_type": "raw",
   "metadata": {},
   "source": [
    "now you can referthis collection and invoke any method using it\n",
    "\n",
    "db.myCollection.any_method()"
   ]
  },
  {
   "cell_type": "markdown",
   "metadata": {},
   "source": [
    "##### methods on collection"
   ]
  },
  {
   "cell_type": "raw",
   "metadata": {},
   "source": [
    ">db.myCollection.insertOne({\"a\":1})\n",
    "{\n",
    "        \"acknowledged\" : true,\n",
    "        \"insertedId\" : ObjectId(\"5c938b2c96730ca2c9c63605\")\n",
    "}\n",
    "\n",
    "it inserts document (in this case {\"a\": 1}), and returns objectId which can be used to retrieve document"
   ]
  },
  {
   "cell_type": "raw",
   "metadata": {},
   "source": [
    "> db.myCollection.findOne()\n",
    "{ \"_id\" : ObjectId(\"5c938b2c96730ca2c9c63605\"), \"a\" : 1 }\n",
    "\n",
    "gives one document back"
   ]
  },
  {
   "cell_type": "raw",
   "metadata": {},
   "source": [
    "> db.myCollection.find()\n",
    "{ \"_id\" : ObjectId(\"5c938b2c96730ca2c9c63605\"), \"a\" : 1 }\n",
    "{ \"_id\" : ObjectId(\"5c938bfb96730ca2c9c63606\"), \"a\" : 1 }\n",
    "{ \"_id\" : ObjectId(\"5c938c0696730ca2c9c63607\"), \"a\" : 3 }\n",
    "\n",
    "gives all the documents back"
   ]
  },
  {
   "cell_type": "code",
   "execution_count": null,
   "metadata": {
    "collapsed": true
   },
   "outputs": [],
   "source": []
  },
  {
   "cell_type": "code",
   "execution_count": 2,
   "metadata": {
    "collapsed": true
   },
   "outputs": [],
   "source": [
    "import pymongo"
   ]
  },
  {
   "cell_type": "code",
   "execution_count": 3,
   "metadata": {
    "collapsed": false
   },
   "outputs": [
    {
     "data": {
      "text/plain": [
       "'3.6.0'"
      ]
     },
     "execution_count": 3,
     "metadata": {},
     "output_type": "execute_result"
    }
   ],
   "source": [
    "pymongo.version"
   ]
  },
  {
   "cell_type": "code",
   "execution_count": 5,
   "metadata": {
    "collapsed": true
   },
   "outputs": [],
   "source": [
    "from pymongo import MongoClient"
   ]
  },
  {
   "cell_type": "code",
   "execution_count": 7,
   "metadata": {
    "collapsed": true
   },
   "outputs": [],
   "source": [
    "#get client\n",
    "client = MongoClient(\"localhost\")"
   ]
  },
  {
   "cell_type": "code",
   "execution_count": 8,
   "metadata": {
    "collapsed": true
   },
   "outputs": [],
   "source": [
    "#create or use existing database\n",
    "db = client.example"
   ]
  },
  {
   "cell_type": "code",
   "execution_count": 9,
   "metadata": {
    "collapsed": true
   },
   "outputs": [],
   "source": [
    "#create or use collection\n",
    "collection = db.dataCollection"
   ]
  },
  {
   "cell_type": "markdown",
   "metadata": {},
   "source": [
    "### curd operations"
   ]
  },
  {
   "cell_type": "code",
   "execution_count": 18,
   "metadata": {
    "collapsed": false
   },
   "outputs": [
    {
     "data": {
      "text/plain": [
       "<pymongo.results.InsertOneResult at 0x151026e94c8>"
      ]
     },
     "execution_count": 18,
     "metadata": {},
     "output_type": "execute_result"
    }
   ],
   "source": [
    "# insert\n",
    "collection.insert_one({\"name\": \"afrid\"})"
   ]
  },
  {
   "cell_type": "code",
   "execution_count": 19,
   "metadata": {
    "collapsed": false
   },
   "outputs": [
    {
     "data": {
      "text/plain": [
       "{'_id': ObjectId('5c93902d9c8ba0089cf9599b'), 'name': 'afrid'}"
      ]
     },
     "execution_count": 19,
     "metadata": {},
     "output_type": "execute_result"
    }
   ],
   "source": [
    "# retrieve\n",
    "collection.find_one()"
   ]
  },
  {
   "cell_type": "code",
   "execution_count": 20,
   "metadata": {
    "collapsed": false
   },
   "outputs": [
    {
     "data": {
      "text/plain": [
       "4"
      ]
     },
     "execution_count": 20,
     "metadata": {},
     "output_type": "execute_result"
    }
   ],
   "source": [
    "collection.count()"
   ]
  },
  {
   "cell_type": "code",
   "execution_count": 32,
   "metadata": {
    "collapsed": true
   },
   "outputs": [],
   "source": [
    "# returns object which has object id afterr insertion\n",
    "inserted_obj = collection.insert_one({\"name\": \"afrid\", \"surname\": \"shaikh\"})"
   ]
  },
  {
   "cell_type": "code",
   "execution_count": 31,
   "metadata": {
    "collapsed": false
   },
   "outputs": [
    {
     "data": {
      "text/plain": [
       "ObjectId('5c9390de9c8ba0089cf959a0')"
      ]
     },
     "execution_count": 31,
     "metadata": {},
     "output_type": "execute_result"
    }
   ],
   "source": [
    "inserted_obj.inserted_id"
   ]
  },
  {
   "cell_type": "code",
   "execution_count": 33,
   "metadata": {
    "collapsed": false
   },
   "outputs": [
    {
     "data": {
      "text/plain": [
       "{'_id': ObjectId('5c9390c09c8ba0089cf9599f'),\n",
       " 'name': 'afrid',\n",
       " 'surname': 'shaikh'}"
      ]
     },
     "execution_count": 33,
     "metadata": {},
     "output_type": "execute_result"
    }
   ],
   "source": [
    "# find based on criteria\n",
    "collection.find_one({\"surname\":\"shaikh\"})"
   ]
  },
  {
   "cell_type": "code",
   "execution_count": null,
   "metadata": {
    "collapsed": false
   },
   "outputs": [],
   "source": []
  },
  {
   "cell_type": "markdown",
   "metadata": {},
   "source": [
    "### loop through data"
   ]
  },
  {
   "cell_type": "code",
   "execution_count": 36,
   "metadata": {
    "collapsed": false
   },
   "outputs": [
    {
     "name": "stdout",
     "output_type": "stream",
     "text": [
      "{'_id': ObjectId('5c93902d9c8ba0089cf9599b'), 'name': 'afrid'}\n",
      "{'_id': ObjectId('5c9390419c8ba0089cf9599c'), 'name': 'afrid'}\n",
      "{'_id': ObjectId('5c93907f9c8ba0089cf9599d'), 'name': 'afrid'}\n",
      "{'_id': ObjectId('5c93909b9c8ba0089cf9599e'), 'name': 'afrid'}\n",
      "{'_id': ObjectId('5c9390c09c8ba0089cf9599f'), 'name': 'afrid', 'surname': 'shaikh'}\n",
      "{'_id': ObjectId('5c9390de9c8ba0089cf959a0'), 'name': 'afrid', 'surname': 'shaikh'}\n",
      "{'_id': ObjectId('5c9391369c8ba0089cf959a1'), 'name': 'afrid', 'surname': 'shaikh'}\n"
     ]
    }
   ],
   "source": [
    "for document in collection.find():\n",
    "    print(document)"
   ]
  },
  {
   "cell_type": "code",
   "execution_count": null,
   "metadata": {
    "collapsed": true
   },
   "outputs": [],
   "source": []
  },
  {
   "cell_type": "markdown",
   "metadata": {},
   "source": [
    "###   dropping data"
   ]
  },
  {
   "cell_type": "code",
   "execution_count": 37,
   "metadata": {
    "collapsed": false
   },
   "outputs": [
    {
     "data": {
      "text/plain": [
       "{'nIndexesWas': 1, 'ns': 'example.dataCollection', 'ok': 1.0}"
      ]
     },
     "execution_count": 37,
     "metadata": {},
     "output_type": "execute_result"
    }
   ],
   "source": [
    "db.drop_collection(\"dataCollection\")"
   ]
  },
  {
   "cell_type": "code",
   "execution_count": 39,
   "metadata": {
    "collapsed": false
   },
   "outputs": [
    {
     "data": {
      "text/plain": [
       "{'code': 26,\n",
       " 'codeName': 'NamespaceNotFound',\n",
       " 'errmsg': 'ns not found',\n",
       " 'ok': 0.0}"
      ]
     },
     "execution_count": 39,
     "metadata": {},
     "output_type": "execute_result"
    }
   ],
   "source": [
    "db.drop_collection(\"dataCollection\")"
   ]
  },
  {
   "cell_type": "code",
   "execution_count": 40,
   "metadata": {
    "collapsed": true
   },
   "outputs": [],
   "source": [
    "client.drop_database(\"example\")"
   ]
  },
  {
   "cell_type": "code",
   "execution_count": null,
   "metadata": {
    "collapsed": true
   },
   "outputs": [],
   "source": []
  }
 ],
 "metadata": {
  "kernelspec": {
   "display_name": "Python 3",
   "language": "python",
   "name": "python3"
  },
  "language_info": {
   "codemirror_mode": {
    "name": "ipython",
    "version": 3
   },
   "file_extension": ".py",
   "mimetype": "text/x-python",
   "name": "python",
   "nbconvert_exporter": "python",
   "pygments_lexer": "ipython3",
   "version": "3.6.0"
  }
 },
 "nbformat": 4,
 "nbformat_minor": 2
}
